{
 "cells": [
  {
   "attachments": {},
   "cell_type": "markdown",
   "metadata": {},
   "source": [
    "### 171. for문과 range문 이용\n",
    "\n",
    "```python\n",
    "for p in range(len(price_litst)):\n",
    "    print(price_list[p])\n",
    "```\n",
    "```\n",
    "이렇게 하면 range(범위는) len(price_list), 즉 price_list의 길이가 된다.\n",
    "리스트에 변화가 생겨도 코드의 수정이 필요 없으므로 이렇게 작성하는게 더 좋다.\n",
    "```"
   ]
  },
  {
   "cell_type": "code",
   "execution_count": 5,
   "metadata": {},
   "outputs": [
    {
     "name": "stdout",
     "output_type": "stream",
     "text": [
      "32100\n",
      "32150\n",
      "32000\n",
      "32500\n"
     ]
    }
   ],
   "source": [
    "price_list = [32100, 32150, 32000, 32500]\n",
    "\n",
    "for p in range(4):\n",
    "    print(price_list[p])"
   ]
  },
  {
   "attachments": {},
   "cell_type": "markdown",
   "metadata": {},
   "source": [
    "### 172. for문과 range문 이용\n",
    "\n",
    "```python\n",
    "for p, data in enumerate(price_list):\n",
    "    print(p, data)\n",
    "```\n",
    "```\n",
    "enumerate() == 인덱스와 값을 함께 출력하는 함수\n",
    "위처럼 코드 작성하면 p가 인덱스번호, data가 리스트의 값으로 출력됨\n",
    "```"
   ]
  },
  {
   "cell_type": "code",
   "execution_count": 9,
   "metadata": {},
   "outputs": [
    {
     "name": "stdout",
     "output_type": "stream",
     "text": [
      "0 32100\n",
      "1 32150\n",
      "2 32000\n",
      "3 32500\n"
     ]
    }
   ],
   "source": [
    "price_list = [32100, 32150, 32000, 32500]\n",
    "\n",
    "for p in range(len(price_list)):\n",
    "    print(f'{p} {price_list[p]}')"
   ]
  },
  {
   "attachments": {},
   "cell_type": "markdown",
   "metadata": {},
   "source": [
    "### 173 for문과 range문 이용\n",
    "\n",
    "```python\n",
    "for p, data in enumerate(price_list[::-1]):\n",
    "    print(p, data)\n",
    "```\n",
    "```\n",
    "처음 짠 코드! 저렇게 작성하면 인덱스번호는 0,1,2,3 순으로 그대로 출력되고\n",
    "값만 거꾸로 32500, 32000, 32150, 32100 순으로 출력됨\n",
    "```"
   ]
  },
  {
   "cell_type": "code",
   "execution_count": 12,
   "metadata": {},
   "outputs": [
    {
     "name": "stdout",
     "output_type": "stream",
     "text": [
      "3 32100\n",
      "2 32150\n",
      "1 32000\n",
      "0 32500\n"
     ]
    }
   ],
   "source": [
    "price_list = [32100, 32150, 32000, 32500]\n",
    "\n",
    "for p, data in enumerate(price_list):\n",
    "    print((len(price_list)-1) - p, data)\n"
   ]
  },
  {
   "attachments": {},
   "cell_type": "markdown",
   "metadata": {},
   "source": [
    "### for문과 range문 이용\n",
    "\n",
    "```python \n",
    "for p in range(len(price_litst)):\n",
    "    print(price_list[p])\n",
    "```\n",
    "```\n",
    "처음에 이렇게 만들어놓고 1~3번 인덱스만 어떻게 출력할지 계속 고민했는데\n",
    "또 어렵게 생각하는 바보짓을 하고 있었다.\n",
    "range를 1,4로 지정해주면 1~3까지만 돈다는 기본을 아예 잊음\n",
    "너무 꼬아서 생각하지 말 것!!\n",
    "```\n"
   ]
  },
  {
   "cell_type": "code",
   "execution_count": 19,
   "metadata": {},
   "outputs": [
    {
     "name": "stdout",
     "output_type": "stream",
     "text": [
      "100 32150\n",
      "110 32000\n",
      "120 32500\n"
     ]
    }
   ],
   "source": [
    "price_list = [32100, 32150, 32000, 32500]\n",
    "\n",
    "for p in range(1,4):\n",
    "    print(90 + 10 * p, price_list[p])"
   ]
  },
  {
   "attachments": {},
   "cell_type": "markdown",
   "metadata": {},
   "source": [
    "### 175. for문 이용한 출력\n",
    "\n",
    "```python\n",
    "for a in range(1, len(my_list)):\n",
    "    print(my_list[a], my_list[a+1]):\n",
    "```\n",
    "```\n",
    "이렇게 작성하면 역시 my_list 가 변화해도 코드 수정 필요 없음\n",
    "```"
   ]
  },
  {
   "cell_type": "code",
   "execution_count": 26,
   "metadata": {},
   "outputs": [
    {
     "name": "stdout",
     "output_type": "stream",
     "text": [
      "가 나\n",
      "나 다\n",
      "다 라\n"
     ]
    }
   ],
   "source": [
    "my_list = ['가', '나', '다', '라']\n",
    "\n",
    "for a in range(0,3):\n",
    "    print(my_list[a], my_list[a+1])"
   ]
  },
  {
   "attachments": {},
   "cell_type": "markdown",
   "metadata": {},
   "source": [
    "### 176. for문을 이용한 출력"
   ]
  },
  {
   "cell_type": "code",
   "execution_count": 28,
   "metadata": {},
   "outputs": [
    {
     "name": "stdout",
     "output_type": "stream",
     "text": [
      "가 나 다\n",
      "나 다 라\n",
      "다 라 마\n"
     ]
    }
   ],
   "source": [
    "my_list = ['가', '나', '다', '라', '마']\n",
    "\n",
    "for b in range(len(my_list) - 2) :\n",
    "    print(my_list[b], my_list[b+1], my_list[b+2])\n"
   ]
  },
  {
   "attachments": {},
   "cell_type": "markdown",
   "metadata": {},
   "source": [
    "### 177. for문과 range 이용한 출력\n",
    "\n",
    "```\n",
    "헷갈린거 => 리스트[::]나 range(,,) 모두 거꾸로 출력하려면\n",
    "마지막인덱스번호 : 시작인덱스번호 : -1\n",
    "이런식으로 가야함!!!\n",
    "예를들어 , 0번부터 3번까지의 인덱스를 거꾸로 출력하려면\n",
    "3:0:-1 이렇게 해야하는 것.\n",
    "0:3:-1은 작동하지 않는다\n",
    "```"
   ]
  },
  {
   "cell_type": "code",
   "execution_count": 49,
   "metadata": {},
   "outputs": [
    {
     "name": "stdout",
     "output_type": "stream",
     "text": [
      "라 다\n",
      "다 나\n",
      "나 가\n"
     ]
    }
   ],
   "source": [
    "my_list = ['가', '나', '다', '라']\n",
    "\n",
    "for i in range(len(my_list) - 1, 0, -1):\n",
    "    print(my_list[i], my_list[i -1])"
   ]
  },
  {
   "attachments": {},
   "cell_type": "markdown",
   "metadata": {},
   "source": [
    "### 178. for문 이용한 출력"
   ]
  },
  {
   "cell_type": "code",
   "execution_count": 50,
   "metadata": {},
   "outputs": [
    {
     "name": "stdout",
     "output_type": "stream",
     "text": [
      "100\n",
      "200\n",
      "400\n"
     ]
    }
   ],
   "source": [
    "my_list = [100, 200, 400, 800]\n",
    "\n",
    "for i in range(len(my_list) -1):\n",
    "    print(my_list[i+1] - my_list[i])"
   ]
  },
  {
   "attachments": {},
   "cell_type": "markdown",
   "metadata": {},
   "source": [
    "### 179. for문을 이용한 출력"
   ]
  },
  {
   "cell_type": "code",
   "execution_count": 55,
   "metadata": {},
   "outputs": [
    {
     "name": "stdout",
     "output_type": "stream",
     "text": [
      "233.33333333333334\n",
      "466.6666666666667\n",
      "733.3333333333334\n",
      "1033.3333333333333\n"
     ]
    }
   ],
   "source": [
    "my_list = [100, 200, 400, 800, 1000, 1300]\n",
    "\n",
    "for i in range(1, len(my_list)-1):\n",
    "    print((my_list[i-1] + my_list[i] + my_list[i+1]) / 3)\n"
   ]
  },
  {
   "attachments": {},
   "cell_type": "markdown",
   "metadata": {},
   "source": [
    "### 180. for문을 이용한 출력\n",
    "low , high 두개의 리스트 차액을 volatility 리스트에 저장하라\n",
    "\n",
    "```\n",
    "차액 계산하는거까지 완료. 리스트에 어떻게 저장할지 도출 못함\n",
    "1. 리스트에 저장하려면 빈리스트  volatility를 먼저 만들어줘야한다\n",
    "2. for문을 이용해서 차액을 구한다\n",
    "3. 하나의 차액이 나올때 append 함수를 이용해서 volatility 함수에 추가시킨다\n",
    "```"
   ]
  },
  {
   "cell_type": "code",
   "execution_count": 57,
   "metadata": {},
   "outputs": [
    {
     "name": "stdout",
     "output_type": "stream",
     "text": [
      "[50, 100, 30, 80, 0]\n"
     ]
    }
   ],
   "source": [
    "low_prices = [100, 200, 400, 800, 1000]\n",
    "high_prices = [150, 300, 430, 880, 1000]\n",
    "volatility = []\n",
    "\n",
    "\n",
    "for i in range(5):\n",
    "    volatility.append(high_prices[i] - low_prices[i])\n",
    "\n",
    "print(volatility)    "
   ]
  }
 ],
 "metadata": {
  "kernelspec": {
   "display_name": "Python 3",
   "language": "python",
   "name": "python3"
  },
  "language_info": {
   "codemirror_mode": {
    "name": "ipython",
    "version": 3
   },
   "file_extension": ".py",
   "mimetype": "text/x-python",
   "name": "python",
   "nbconvert_exporter": "python",
   "pygments_lexer": "ipython3",
   "version": "3.11.1"
  },
  "orig_nbformat": 4,
  "vscode": {
   "interpreter": {
    "hash": "881462fc2814ba870bf51d80fbc25bf1b415fe6856d58d465ccecd22c8b8fcfd"
   }
  }
 },
 "nbformat": 4,
 "nbformat_minor": 2
}
