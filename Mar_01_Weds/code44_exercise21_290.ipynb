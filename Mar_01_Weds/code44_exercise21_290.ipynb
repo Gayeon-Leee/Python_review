{
 "cells": [
  {
   "attachments": {},
   "cell_type": "markdown",
   "metadata": {},
   "source": [
    "### 271 ~ 280 Account 클래스\n",
    "은행에 가서 계좌를 개설하면 은행이름, 예금주, 계좌번호, 잔액이 설정됩니다. Account 클래스를 생성한 후 생성자를 구현해보세요. 생성자에서는 예금주와 초기 잔액만 입력 받습니다. 은행이름은 SC은행으로 계좌번호는 3자리-2자리-6자리 형태로 랜덤하게 생성됩니다.\n",
    "\n",
    "```\n",
    "zfill() : 문자열 데이터에서 사용.\n",
    "확보한 공간에 문자열 출력하고 빈자리는 0으로 채움 - 0은 오른쪽으로 채움\n",
    "예를들어, 아래 클래스에서 3의 공간에 랜덤숫자 1을 넣으면 001 이 출력되는 것\n",
    "```"
   ]
  },
  {
   "cell_type": "code",
   "execution_count": null,
   "metadata": {},
   "outputs": [],
   "source": [
    "import random\n",
    "\n",
    "class account:\n",
    "    def __init__(self, name, balance):\n",
    "        self.deposit_count = 0\n",
    "        self.deposit_log = []\n",
    "        self.withraw_log = []\n",
    "\n",
    "        self.name = name\n",
    "        self.balance = balance\n",
    "        self.bank = 'SC은행'\n",
    "        num1 = random.randint(0, 999)\n",
    "        num2 = random.randint(0, 99)\n",
    "        num3 = random.randint(0, 999999)\n",
    "\n",
    "        num1 = str(num1).zfill(3)\n",
    "        num2 = str(num2).zfill(2)\n",
    "        num3 = str(num3).zfill(6)\n",
    "        self.accountnum = num1 + '-' + num2 + '-' + num3\n",
    "\n",
    "\n",
    "    def deposit(self, amount):\n",
    "        if amount > 1:\n",
    "            self.deposit_log.append(amount)\n",
    "            self.balance += amount\n",
    "            \n",
    "            self.deposit_count += 1\n",
    "            if self.deposit_count % 5 == 0:\n",
    "                self.balance = (self.balance * 1.01)\n",
    "    \n",
    "    def withraw(self, money):\n",
    "        if money < self.balance:\n",
    "            self.withraw_log.append(money)\n",
    "            self.balance -= money\n",
    "\n",
    "    def display_info(self):\n",
    "        print(f'은행이름 : {self.bank}')\n",
    "        print(f'예금주 : {self.name}')\n",
    "        print(f'계좌번호 : {self.accountnum}')\n",
    "        print(f'잔액 : {self.balance:,}')\n",
    "\n",
    "    def deposit_history(self):\n",
    "        for amount in self.deposit_log:\n",
    "            print(amount)\n",
    "\n",
    "    def withraw_history(self):\n",
    "        for money in self.withraw_log:\n",
    "            print(money)\n",
    "\n",
    "data = []\n",
    "\n",
    "yu = account('유기현', 100000000)\n",
    "# print(yu.name)\n",
    "# print(yu.balance)\n",
    "# print(yu.bank)\n",
    "# print(yu.accountnum)\n",
    "\n",
    "yu.deposit(100000)\n",
    "yu.deposit(100000)\n",
    "yu.deposit(100000)\n",
    "yu.deposit(100000)\n",
    "yu.deposit(100000)\n",
    "\n",
    "yu.deposit_history()\n",
    "\n",
    "yu.withraw(50000)\n",
    "yu.withraw(50000)\n",
    "yu.withraw(50000)\n",
    "\n",
    "yu.withraw_history()\n",
    "\n",
    "# yu.display_info()\n",
    "\n",
    "lee = account('이민혁', 100000000)\n",
    "ch = account('채형원', 100000000)\n",
    "lee2 = account('이주헌', 100000000)\n",
    "lim = account('임창균', 100000000)\n",
    "\n",
    "data.append(yu)\n",
    "data.append(lee)\n",
    "data.append(lee2)\n",
    "data.append(ch)\n",
    "data.append(lim)\n",
    "\n",
    "for c in data:\n",
    "    if c.balance >= 100000000:\n",
    "        c.display_info()\n"
   ]
  },
  {
   "attachments": {},
   "cell_type": "markdown",
   "metadata": {},
   "source": [
    "### 281~287 클래스 정의"
   ]
  },
  {
   "cell_type": "code",
   "execution_count": 17,
   "metadata": {},
   "outputs": [],
   "source": [
    "class Car:\n",
    "    def __init__(self, wheel, price):\n",
    "        self.wheel = wheel\n",
    "        self.price = price\n",
    "\n",
    "    def info(self):\n",
    "        print(f'바퀴수 : {self.wheel}\\n 가격 : {self.price}')  "
   ]
  },
  {
   "cell_type": "code",
   "execution_count": null,
   "metadata": {},
   "outputs": [],
   "source": [
    "class Bycycle(Car):\n",
    "    def __init__(self, wheel, price, 구동계):\n",
    "        self.wheel = wheel\n",
    "        self.price = price\n",
    "        self.구동계 = 구동계\n",
    "\n",
    "    def info(self):\n",
    "        super().info()\n",
    "        print(f'구동계 : {self.구동계}') "
   ]
  },
  {
   "cell_type": "code",
   "execution_count": null,
   "metadata": {},
   "outputs": [],
   "source": [
    "class Volvo(Car):\n",
    "    def __init__(self, wheel, price):\n",
    "        super().__init__(wheel, price)\n",
    "  "
   ]
  },
  {
   "attachments": {},
   "cell_type": "markdown",
   "metadata": {},
   "source": [
    "### 290"
   ]
  },
  {
   "cell_type": "code",
   "execution_count": 20,
   "metadata": {},
   "outputs": [
    {
     "name": "stdout",
     "output_type": "stream",
     "text": [
      "자식생성\n",
      "부모생성\n"
     ]
    }
   ],
   "source": [
    "class 부모:\n",
    "    def __init__(self):\n",
    "        print(\"부모생성\")\n",
    "\n",
    "class 자식(부모):\n",
    "    def __init__(self):\n",
    "        print(\"자식생성\")\n",
    "        super().__init__()\n",
    "\n",
    "나 = 자식()"
   ]
  },
  {
   "cell_type": "markdown",
   "metadata": {},
   "source": []
  },
  {
   "cell_type": "code",
   "execution_count": 4,
   "metadata": {},
   "outputs": [
    {
     "name": "stdout",
     "output_type": "stream",
     "text": [
      "[10.31, 0, 8.0]\n"
     ]
    }
   ],
   "source": [
    "per = [\"10.31\", \"\", \"8.00\"]\n",
    "newper = []\n",
    "\n",
    "for i in per:\n",
    "    try:\n",
    "        v = float(i)\n",
    "    except:\n",
    "        v = 0\n",
    "    newper.append(v)\n",
    "\n",
    "print(newper)"
   ]
  },
  {
   "cell_type": "code",
   "execution_count": 5,
   "metadata": {},
   "outputs": [
    {
     "name": "stdout",
     "output_type": "stream",
     "text": [
      "1\n",
      "2\n",
      "3\n",
      "list index out of range\n",
      "list index out of range\n"
     ]
    }
   ],
   "source": [
    "data = [1, 2, 3]\n",
    "\n",
    "for i in range(5):\n",
    "    try:\n",
    "        print(data[i])\n",
    "    except IndexError as e:\n",
    "        print(e)"
   ]
  },
  {
   "cell_type": "code",
   "execution_count": 6,
   "metadata": {},
   "outputs": [
    {
     "name": "stdout",
     "output_type": "stream",
     "text": [
      "10.31\n",
      "clean data\n",
      "변환 완료\n",
      "0\n",
      "변환 완료\n",
      "8.0\n",
      "clean data\n",
      "변환 완료\n"
     ]
    }
   ],
   "source": [
    "per = [\"10.31\", \"\", \"8.00\"]\n",
    "\n",
    "for i in per:\n",
    "    try:\n",
    "        print(float(i))\n",
    "    except:\n",
    "        print(0)\n",
    "    else:\n",
    "        print(\"clean data\")\n",
    "    finally:\n",
    "        print(\"변환 완료\")"
   ]
  }
 ],
 "metadata": {
  "kernelspec": {
   "display_name": "Python 3",
   "language": "python",
   "name": "python3"
  },
  "language_info": {
   "codemirror_mode": {
    "name": "ipython",
    "version": 3
   },
   "file_extension": ".py",
   "mimetype": "text/x-python",
   "name": "python",
   "nbconvert_exporter": "python",
   "pygments_lexer": "ipython3",
   "version": "3.11.1"
  },
  "orig_nbformat": 4,
  "vscode": {
   "interpreter": {
    "hash": "881462fc2814ba870bf51d80fbc25bf1b415fe6856d58d465ccecd22c8b8fcfd"
   }
  }
 },
 "nbformat": 4,
 "nbformat_minor": 2
}
