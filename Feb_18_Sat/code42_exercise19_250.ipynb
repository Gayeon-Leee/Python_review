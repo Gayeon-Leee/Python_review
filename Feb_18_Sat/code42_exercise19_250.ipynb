{
 "cells": [
  {
   "attachments": {},
   "cell_type": "markdown",
   "metadata": {},
   "source": [
    "### 226. 입력 문자열을 한 줄에 다섯글자씩 출력하는 함수 작성"
   ]
  },
  {
   "cell_type": "code",
   "execution_count": 1,
   "metadata": {},
   "outputs": [
    {
     "name": "stdout",
     "output_type": "stream",
     "text": [
      "유기현노래\n",
      "최고다\n"
     ]
    }
   ],
   "source": [
    "def print_5xn(line):\n",
    "    chunk_num = int(len(line) / 5)\n",
    "    for x in range(chunk_num + 1) :\n",
    "        print(line[x * 5: x * 5 + 5])\n",
    "\n",
    "\n",
    "print_5xn(input('문자열을 입력하세요 >> '))"
   ]
  },
  {
   "attachments": {},
   "cell_type": "markdown",
   "metadata": {},
   "source": [
    "### 227. 문자열과 한줄에 출력될 글자 수를 입력받아 그 수만큼 출력"
   ]
  },
  {
   "cell_type": "code",
   "execution_count": 2,
   "metadata": {},
   "outputs": [
    {
     "name": "stdout",
     "output_type": "stream",
     "text": [
      "영화한편\n",
      "찍자나랑\n",
      "그림같은\n",
      "곳에서둘\n",
      "이\n"
     ]
    }
   ],
   "source": [
    "def print_mxn(string, num):\n",
    "    chunk_num = int(len(string) / num)\n",
    "    for x in range(chunk_num + 1):\n",
    "        print(string[x * num: x * num + num])\n",
    "\n",
    "print_mxn('영화한편찍자나랑그림같은곳에서둘이', 4)"
   ]
  },
  {
   "attachments": {},
   "cell_type": "markdown",
   "metadata": {},
   "source": [
    "### 228. 연봉을 입력받아 월급을 계산하는 함수 정의"
   ]
  },
  {
   "cell_type": "code",
   "execution_count": 4,
   "metadata": {},
   "outputs": [
    {
     "name": "stdout",
     "output_type": "stream",
     "text": [
      "1000000\n"
     ]
    }
   ],
   "source": [
    "def calc_monthly_salary(salary):\n",
    "    print(int(salary / 12))\n",
    "\n",
    "calc_monthly_salary(12000000)"
   ]
  },
  {
   "cell_type": "code",
   "execution_count": 5,
   "metadata": {},
   "outputs": [
    {
     "data": {
      "text/plain": [
       "1000000"
      ]
     },
     "execution_count": 5,
     "metadata": {},
     "output_type": "execute_result"
    }
   ],
   "source": [
    "def calc_monthly_salary2(salary):\n",
    "    monthly_pay = int(salary / 12)\n",
    "    return monthly_pay\n",
    "\n",
    "calc_monthly_salary2(12000000)"
   ]
  },
  {
   "attachments": {},
   "cell_type": "markdown",
   "metadata": {},
   "source": [
    "### 231. 함수 정의 _ 함수 내부 변수는 밖에서 접근 불가\n",
    "```\n",
    "함수 안의 변수 result 는 함수 밖에서 그냥 접근 할 수 없음!! \n",
    "함수를 호출하고 나서 함수가 실행되면, return으로 호출 한 함수에 값을 돌려주는 것!\n",
    "```"
   ]
  },
  {
   "cell_type": "code",
   "execution_count": 7,
   "metadata": {},
   "outputs": [
    {
     "data": {
      "text/plain": [
       "4"
      ]
     },
     "execution_count": 7,
     "metadata": {},
     "output_type": "execute_result"
    }
   ],
   "source": [
    "'''\n",
    "def n_plus_1 (n) :\n",
    "    result = n + 1\n",
    "\n",
    "n_plus_1(3)\n",
    "print (result)\n",
    "'''\n",
    "\n",
    "def n_plus_1 (n) :\n",
    "    result = n + 1\n",
    "    return result\n",
    "\n",
    "n_plus_1(3)"
   ]
  },
  {
   "attachments": {},
   "cell_type": "markdown",
   "metadata": {},
   "source": [
    "### 233. 문자열 입력받아 리스트로 반환하는 함수 정의\n",
    "\n",
    "아래처럼 문자열을 리스트로 형변환하면 쉬움..ㅋ"
   ]
  },
  {
   "cell_type": "code",
   "execution_count": 9,
   "metadata": {},
   "outputs": [
    {
     "data": {
      "text/plain": [
       "['유', '기', '현']"
      ]
     },
     "execution_count": 9,
     "metadata": {},
     "output_type": "execute_result"
    }
   ],
   "source": [
    "def make_list(string):\n",
    "    new_list = []\n",
    "    for i in string:\n",
    "        new_list.append(i)\n",
    "    return new_list\n",
    "\n",
    "make_list('유기현')"
   ]
  },
  {
   "cell_type": "code",
   "execution_count": 10,
   "metadata": {},
   "outputs": [
    {
     "data": {
      "text/plain": [
       "['유', '기', '현']"
      ]
     },
     "execution_count": 10,
     "metadata": {},
     "output_type": "execute_result"
    }
   ],
   "source": [
    "def make_list2(string):\n",
    "    return list(string)\n",
    "\n",
    "make_list2('유기현')"
   ]
  },
  {
   "attachments": {},
   "cell_type": "markdown",
   "metadata": {},
   "source": [
    "### 234. 숫자 리스트에서 짝수들을 추출하여 리스트로 반환"
   ]
  },
  {
   "cell_type": "code",
   "execution_count": 12,
   "metadata": {},
   "outputs": [
    {
     "data": {
      "text/plain": [
       "[4, 6, 8]"
      ]
     },
     "execution_count": 12,
     "metadata": {},
     "output_type": "execute_result"
    }
   ],
   "source": [
    "def pickup_even(num_list):\n",
    "    even_list = []\n",
    "    for e in num_list:\n",
    "        if e % 2 == 0:\n",
    "            even_list.append(e)\n",
    "    return even_list\n",
    "\n",
    "pickup_even([3, 4, 5, 6, 7, 8])"
   ]
  },
  {
   "attachments": {},
   "cell_type": "markdown",
   "metadata": {},
   "source": [
    "### 콤마가 포함된 문자열 숫자를 입력받아 정수로 변환하는 convert_int 함수 정의"
   ]
  },
  {
   "cell_type": "code",
   "execution_count": 16,
   "metadata": {},
   "outputs": [
    {
     "data": {
      "text/plain": [
       "1234567"
      ]
     },
     "execution_count": 16,
     "metadata": {},
     "output_type": "execute_result"
    }
   ],
   "source": [
    "def convert_int(numbers):\n",
    "    nums = int(numbers.replace(',',''))\n",
    "    return nums\n",
    "\n",
    "convert_int('1,234,567')"
   ]
  },
  {
   "attachments": {},
   "cell_type": "markdown",
   "metadata": {},
   "source": [
    "### 241~246 현재시간 모듈 사용"
   ]
  },
  {
   "cell_type": "code",
   "execution_count": 26,
   "metadata": {},
   "outputs": [
    {
     "name": "stdout",
     "output_type": "stream",
     "text": [
      "21:04:40\n",
      "2023-02-13 21:04:40.713960\n",
      "2023-02-14 21:04:40.713960\n",
      "2023-02-15 21:04:40.713960\n",
      "2023-02-16 21:04:40.713960\n",
      "2023-02-17 21:04:40.713960\n"
     ]
    }
   ],
   "source": [
    "import datetime\n",
    "\n",
    "now = datetime.datetime.now()\n",
    "\n",
    "print(now.strftime('%H:%M:%S'))\n",
    "\n",
    "for day in range(5, 0, -1):\n",
    "    delta = datetime.timedelta(days=day)\n",
    "    date = now - delta\n",
    "    print(date)"
   ]
  },
  {
   "cell_type": "code",
   "execution_count": 28,
   "metadata": {},
   "outputs": [
    {
     "name": "stdout",
     "output_type": "stream",
     "text": [
      "2023-02-18 21:06:26.720789\n",
      "2023-02-18 21:06:28.721983\n",
      "2023-02-18 21:06:30.722993\n",
      "2023-02-18 21:06:32.723355\n",
      "2023-02-18 21:06:34.723788\n"
     ]
    }
   ],
   "source": [
    "import time\n",
    "import datetime\n",
    "\n",
    "for i in range(5):\n",
    "    now2 = datetime.datetime.now()\n",
    "    print(now2)\n",
    "    time.sleep(2)"
   ]
  },
  {
   "attachments": {},
   "cell_type": "markdown",
   "metadata": {},
   "source": [
    "### 248. os 모듈"
   ]
  },
  {
   "cell_type": "code",
   "execution_count": 29,
   "metadata": {},
   "outputs": [
    {
     "name": "stdout",
     "output_type": "stream",
     "text": [
      "d:\\Source\\Python_review\\Feb_18_Sat\n"
     ]
    }
   ],
   "source": [
    "import os\n",
    "\n",
    "wh = os.getcwd()\n",
    "\n",
    "print(wh)"
   ]
  },
  {
   "attachments": {},
   "cell_type": "markdown",
   "metadata": {},
   "source": [
    "### 250. numpy"
   ]
  },
  {
   "cell_type": "code",
   "execution_count": 30,
   "metadata": {},
   "outputs": [
    {
     "name": "stdout",
     "output_type": "stream",
     "text": [
      "Collecting numpy"
     ]
    },
    {
     "name": "stderr",
     "output_type": "stream",
     "text": [
      "\n",
      "[notice] A new release of pip is available: 23.0 -> 23.0.1\n",
      "[notice] To update, run: python.exe -m pip install --upgrade pip\n"
     ]
    },
    {
     "name": "stdout",
     "output_type": "stream",
     "text": [
      "\n",
      "  Downloading numpy-1.24.2-cp311-cp311-win_amd64.whl (14.8 MB)\n",
      "     ---------------------------------------- 0.0/14.8 MB ? eta -:--:--\n",
      "     - -------------------------------------- 0.5/14.8 MB 16.5 MB/s eta 0:00:01\n",
      "     ------ --------------------------------- 2.5/14.8 MB 31.4 MB/s eta 0:00:01\n",
      "     -------------- ------------------------- 5.4/14.8 MB 49.8 MB/s eta 0:00:01\n",
      "     --------------------- ------------------ 8.0/14.8 MB 51.3 MB/s eta 0:00:01\n",
      "     ---------------------------- ---------- 10.7/14.8 MB 54.7 MB/s eta 0:00:01\n",
      "     ---------------------------------- ---- 13.3/14.8 MB 59.5 MB/s eta 0:00:01\n",
      "     --------------------------------------  14.8/14.8 MB 54.7 MB/s eta 0:00:01\n",
      "     --------------------------------------  14.8/14.8 MB 54.7 MB/s eta 0:00:01\n",
      "     --------------------------------------- 14.8/14.8 MB 36.4 MB/s eta 0:00:00\n",
      "Installing collected packages: numpy\n",
      "Successfully installed numpy-1.24.2\n"
     ]
    }
   ],
   "source": [
    "!pip install numpy "
   ]
  },
  {
   "cell_type": "code",
   "execution_count": 33,
   "metadata": {},
   "outputs": [
    {
     "name": "stdout",
     "output_type": "stream",
     "text": [
      "0\n",
      "1\n",
      "2\n",
      "3\n",
      "4\n"
     ]
    }
   ],
   "source": [
    "import numpy\n",
    "for i in numpy.arange(0, 5):\n",
    "    print(i)"
   ]
  }
 ],
 "metadata": {
  "kernelspec": {
   "display_name": "Python 3",
   "language": "python",
   "name": "python3"
  },
  "language_info": {
   "codemirror_mode": {
    "name": "ipython",
    "version": 3
   },
   "file_extension": ".py",
   "mimetype": "text/x-python",
   "name": "python",
   "nbconvert_exporter": "python",
   "pygments_lexer": "ipython3",
   "version": "3.11.1"
  },
  "orig_nbformat": 4,
  "vscode": {
   "interpreter": {
    "hash": "881462fc2814ba870bf51d80fbc25bf1b415fe6856d58d465ccecd22c8b8fcfd"
   }
  }
 },
 "nbformat": 4,
 "nbformat_minor": 2
}
