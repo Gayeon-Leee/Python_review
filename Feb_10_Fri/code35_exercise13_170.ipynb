{
 "cells": [
  {
   "attachments": {},
   "cell_type": "markdown",
   "metadata": {},
   "source": [
    "### 162 for문과 range => 0~99까지 출력"
   ]
  },
  {
   "cell_type": "code",
   "execution_count": 2,
   "metadata": {},
   "outputs": [
    {
     "name": "stdout",
     "output_type": "stream",
     "text": [
      "0 1 2 3 4 5 6 7 8 9 10 11 12 13 14 15 16 17 18 19 20 21 22 23 24 25 26 27 28 29 30 31 32 33 34 35 36 37 38 39 40 41 42 43 44 45 46 47 48 49 50 51 52 53 54 55 56 57 58 59 60 61 62 63 64 65 66 67 68 69 70 71 72 73 74 75 76 77 78 79 80 81 82 83 84 85 86 87 88 89 90 91 92 93 94 95 96 97 98 99 "
     ]
    }
   ],
   "source": [
    "for i in range(100):\n",
    "    print(i, end=' ')"
   ]
  },
  {
   "attachments": {},
   "cell_type": "markdown",
   "metadata": {},
   "source": [
    "### 162. range()이용, 2002~2050 월드컵 개최 연도 출력\n",
    "\n",
    "range() 안에는 : 말고 , 써야함!!"
   ]
  },
  {
   "cell_type": "code",
   "execution_count": 4,
   "metadata": {},
   "outputs": [
    {
     "name": "stdout",
     "output_type": "stream",
     "text": [
      "2022 2026 2030 2034 2038 2042 2046 2050 "
     ]
    }
   ],
   "source": [
    "for w in range(2022,2051,4):\n",
    "    print(w, end=' ')"
   ]
  },
  {
   "attachments": {},
   "cell_type": "markdown",
   "metadata": {},
   "source": [
    "### 163. 1부터 30까지 숫자 중 3의 배수 출력\n",
    "\n",
    "```python\n",
    "for t in range(3,31,3):\n",
    "    print(t)\n",
    "```\n",
    "로도 가능"
   ]
  },
  {
   "cell_type": "code",
   "execution_count": 6,
   "metadata": {},
   "outputs": [
    {
     "name": "stdout",
     "output_type": "stream",
     "text": [
      "3 6 9 12 15 18 21 24 27 30 "
     ]
    }
   ],
   "source": [
    "for t in range(1,31):\n",
    "    if t % 3 == 0:\n",
    "        print(t, end= ' ')"
   ]
  },
  {
   "attachments": {},
   "cell_type": "markdown",
   "metadata": {},
   "source": [
    "### 164. 99부터 0까지 1씩 감소 출력\n",
    "\n",
    "```\n",
    "list[::-1] 을 range(,,-1)로 적용하려고 했으나 출력 안된다!\n",
    "리스트에서만 되는듯하다\n",
    "```"
   ]
  },
  {
   "cell_type": "code",
   "execution_count": 14,
   "metadata": {},
   "outputs": [
    {
     "name": "stdout",
     "output_type": "stream",
     "text": [
      "99 98 97 96 95 94 93 92 91 90 89 88 87 86 85 84 83 82 81 80 79 78 77 76 75 74 73 72 71 70 69 68 67 66 65 64 63 62 61 60 59 58 57 56 55 54 53 52 51 50 49 48 47 46 45 44 43 42 41 40 39 38 37 36 35 34 33 32 31 30 29 28 27 26 25 24 23 22 21 20 19 18 17 16 15 14 13 12 11 10 9 8 7 6 5 4 3 2 1 0 "
     ]
    }
   ],
   "source": [
    "for n in range(100):\n",
    "    print(99 - n, end= ' ')"
   ]
  },
  {
   "attachments": {},
   "cell_type": "markdown",
   "metadata": {},
   "source": [
    "### 165. for문을 사용한 소숫점 출력\n",
    "\n",
    "간단하게 생각하기!!!! 소숫점으로 나타내는거 모르겠을때는 10을 나누면 되는거..!!"
   ]
  },
  {
   "cell_type": "code",
   "execution_count": 18,
   "metadata": {},
   "outputs": [
    {
     "name": "stdout",
     "output_type": "stream",
     "text": [
      "0.0 0.1 0.2 0.3 0.4 0.5 0.6 0.7 0.8 0.9 "
     ]
    }
   ],
   "source": [
    "for f in range(10):\n",
    "    print(f / 10, end= ' ')"
   ]
  },
  {
   "attachments": {},
   "cell_type": "markdown",
   "metadata": {},
   "source": [
    "### 166. 구구단 3단 출력"
   ]
  },
  {
   "cell_type": "code",
   "execution_count": 20,
   "metadata": {},
   "outputs": [
    {
     "name": "stdout",
     "output_type": "stream",
     "text": [
      "3 X 1 = 3 3 X 2 = 6 3 X 3 = 9 3 X 4 = 12 3 X 5 = 15 3 X 6 = 18 3 X 7 = 21 3 X 8 = 24 3 X 9 = 27 "
     ]
    }
   ],
   "source": [
    "for x in range(1,10):\n",
    "    print(f'3 X {x} = {x * 3}', end=' ')"
   ]
  },
  {
   "attachments": {},
   "cell_type": "markdown",
   "metadata": {},
   "source": [
    "### 167. 구구단 3단 홀수번째만 출력"
   ]
  },
  {
   "cell_type": "code",
   "execution_count": 22,
   "metadata": {},
   "outputs": [
    {
     "name": "stdout",
     "output_type": "stream",
     "text": [
      "3 X 1 = 3 3 X 3 = 9 3 X 5 = 15 3 X 7 = 21 3 X 9 = 27 "
     ]
    }
   ],
   "source": [
    "for y in range(1,10,2):\n",
    "    print(f'3 X {y} = {y * 3}', end=' ')"
   ]
  },
  {
   "attachments": {},
   "cell_type": "markdown",
   "metadata": {},
   "source": [
    "### 168. for문을 이용하여 1~10까지의 숫자를 모두 더한 값을 출력\n",
    "```\n",
    "값을 누적하려면 이전 출력값을 저장할 변수가 있어야 함 => sum 변수 만들고 0으로 초기화\n",
    "sum = sum + s 를 하면 0 + 1 / 1 + 2 / 3 + 3 식으로 sum값과 s 가 반복된다\n",
    "sum = sum + s 는 sum += s 로 쓸 수 있다\n",
    "```"
   ]
  },
  {
   "cell_type": "code",
   "execution_count": 26,
   "metadata": {},
   "outputs": [
    {
     "name": "stdout",
     "output_type": "stream",
     "text": [
      "1\n",
      "3\n",
      "6\n",
      "10\n",
      "15\n",
      "21\n",
      "28\n",
      "36\n",
      "45\n",
      "55\n"
     ]
    }
   ],
   "source": [
    "sum = 0\n",
    "\n",
    "for s in range(1,11):\n",
    "    sum = sum + s\n",
    "    print(sum)"
   ]
  },
  {
   "attachments": {},
   "cell_type": "markdown",
   "metadata": {},
   "source": [
    "### 169. 1부터 10까지 숫자 중 홀수의 합을 출력"
   ]
  },
  {
   "cell_type": "code",
   "execution_count": 30,
   "metadata": {},
   "outputs": [
    {
     "name": "stdout",
     "output_type": "stream",
     "text": [
      "1\n",
      "4\n",
      "9\n",
      "16\n",
      "25\n"
     ]
    }
   ],
   "source": [
    "add = 0\n",
    "for a in range(1,11,2):\n",
    "    add += a\n",
    "    print(add)"
   ]
  },
  {
   "attachments": {},
   "cell_type": "markdown",
   "metadata": {},
   "source": [
    "### 170. 1부터 10까지의 숫자를 모두 곱한 값을 출력"
   ]
  },
  {
   "cell_type": "code",
   "execution_count": 32,
   "metadata": {},
   "outputs": [
    {
     "name": "stdout",
     "output_type": "stream",
     "text": [
      "1\n",
      "2\n",
      "6\n",
      "24\n",
      "120\n",
      "720\n",
      "5040\n",
      "40320\n",
      "362880\n",
      "3628800\n"
     ]
    }
   ],
   "source": [
    "mul = 1\n",
    "for m in range(1,11):\n",
    "    mul *= m\n",
    "    print(mul)"
   ]
  }
 ],
 "metadata": {
  "kernelspec": {
   "display_name": "Python 3",
   "language": "python",
   "name": "python3"
  },
  "language_info": {
   "codemirror_mode": {
    "name": "ipython",
    "version": 3
   },
   "file_extension": ".py",
   "mimetype": "text/x-python",
   "name": "python",
   "nbconvert_exporter": "python",
   "pygments_lexer": "ipython3",
   "version": "3.11.1"
  },
  "orig_nbformat": 4,
  "vscode": {
   "interpreter": {
    "hash": "881462fc2814ba870bf51d80fbc25bf1b415fe6856d58d465ccecd22c8b8fcfd"
   }
  }
 },
 "nbformat": 4,
 "nbformat_minor": 2
}
