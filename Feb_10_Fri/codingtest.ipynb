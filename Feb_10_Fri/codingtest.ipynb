{
 "cells": [
  {
   "attachments": {},
   "cell_type": "markdown",
   "metadata": {},
   "source": [
    "## 1번 \n",
    "반지름 값을 입력받아 원의 넓이를 구하여 출력하는 프로그램을 구현하세요. π는 3.141592 입니다. 모듈을 사용하여도 됩니다~!!"
   ]
  },
  {
   "cell_type": "code",
   "execution_count": 1,
   "metadata": {},
   "outputs": [
    {
     "name": "stdout",
     "output_type": "stream",
     "text": [
      "452.389248\n"
     ]
    }
   ],
   "source": [
    "a = float(input('반지름 값을 입력하세요 >> '))\n",
    "p = 3.141592\n",
    "print(a*a*p)"
   ]
  },
  {
   "attachments": {},
   "cell_type": "markdown",
   "metadata": {},
   "source": [
    "## 2번\n",
    "태양계는 수성, 금성, 지구, 화성, 목성, 토성, 천왕성, 해왕성으로 구성됩니다. 영어 이름은 Mercury, Venus, Earth, Mars, Jupiter,  Saturn, Uranus, Neptune 입니다.  행성의 영어 이름을 입력하면 한글 행성 이름이 출력 되는 프로그램을 구현하세요.\n",
    "```\n",
    "헷갈렸던 부분 : \n",
    "딕셔너리를 이용해서 푸는거까지는 접근\n",
    "키를 입력했을때 값을 호출받는걸 처음에 복잡하게 생각했었는데\n",
    "딕셔너리 값을 출력하는게 결국 dictionary[key] 이니까 \n",
    "값을 입력받는 변수를 넣어서 구현!\n",
    "```"
   ]
  },
  {
   "cell_type": "code",
   "execution_count": 2,
   "metadata": {},
   "outputs": [
    {
     "name": "stdout",
     "output_type": "stream",
     "text": [
      "목성\n"
     ]
    }
   ],
   "source": [
    "u = input('행성 이름을 입력하세요 >>')\n",
    "universe = {'Mercury':'수성', 'Venus':'금성', 'Earth':'지구', 'Mars':'화성', 'Jupiter':'목성',  'Saturn':'토성', 'Uranus':'천왕성', 'Neptune':'해왕성'}\n",
    "print(universe[u])"
   ]
  },
  {
   "attachments": {},
   "cell_type": "markdown",
   "metadata": {},
   "source": [
    "## 3번\n",
    "입력한 영어 문자열의 단어의 수를 출력하고 입력된 단어를 짝수로 대문자로 변경하여 출력하는 프로그램을 구현하세요. 예) I'm going to leave the door open = 7 / \n",
    "I'm GOING to LEAVE the DOOR open\n",
    "\n",
    "```\n",
    "헷갈렸던 부분:\n",
    "입력받은 문자열을 분리하기 위해 s = string.split(' ') 쓰는거랑\n",
    "대문자 출력하려면 upper() 써야하는거까지 접근.\n",
    "짝수를 대문자로 변경하는거기때문에 조건문을 써야하는 것도 ok\n",
    "그런데 도대체 어떻게 구현해야하는지 모르겠어서 구글링했다..!\n",
    "\n",
    "s = string.split(' ') = 입력받은 문자열을 공백 기준으로 'i'm' 'going' 'to' 'leave' 'the' 'door' 'open' 나눔\n",
    "for i in range(len(s)): => len(s)는 7이 되고 range(len(s))는 len(s)의 범위를 뜻함.\n",
    "                            len(s)안의 변수 i 라는 뜻\n",
    "    if i%2 == 0: => i를 2로 나눈 나머지가 0이면 => 인덱스 번호가 짝수인 것\n",
    "        print(s[i], end=' ') => 인덱스번호가 짝수이면 리스트 s 에서 해당 i 번의 데이터를 출력해라 \n",
    "                             => 인덱스번호 0,2,4,6 인 'i'm' 'to' 'the' 'open'\n",
    "    eles:\n",
    "         print(s[i].upper(), end=' ') => 인덱스 번호가 홀수라면 리스트 s에서 해당 i번의 데이터를 대문자로 변환해서 출력해라\n",
    "                                      => 인덱스 번호 1,3,5인 'GOING' 'LEAVE' 'DOOR'"
   ]
  },
  {
   "cell_type": "code",
   "execution_count": 8,
   "metadata": {},
   "outputs": [
    {
     "name": "stdout",
     "output_type": "stream",
     "text": [
      "i'm going to leave the door open = 7\n",
      "i'm GOING to LEAVE the DOOR open "
     ]
    }
   ],
   "source": [
    "string =input('입력하세요 >> ')\n",
    "\n",
    "s = string.split(' ')\n",
    "\n",
    "print(f'{string} = {len(s)}')\n",
    "\n",
    "for i in range(len(s)):\n",
    "    if i%2 == 0:\n",
    "        print(s[i], end=' ')\n",
    "    else :\n",
    "        print(s[i].upper(), end=' ')"
   ]
  },
  {
   "attachments": {},
   "cell_type": "markdown",
   "metadata": {},
   "source": [
    "## 4번\n",
    "입력한 수를 거꾸로 출력하는 프로그램을 구현하세요. 예) 1 3 5 7 9 --> 9 7 5 3 1\n",
    "```\n",
    "easy~\n",
    "```"
   ]
  },
  {
   "cell_type": "code",
   "execution_count": 4,
   "metadata": {},
   "outputs": [
    {
     "name": "stdout",
     "output_type": "stream",
     "text": [
      "9 7 5 3 1\n"
     ]
    }
   ],
   "source": [
    "n = input('숫자를 입력하세요 >> ')\n",
    "print(n[::-1])"
   ]
  },
  {
   "attachments": {},
   "cell_type": "markdown",
   "metadata": {},
   "source": [
    "## 5번\n",
    "구구단을 수행할 단번호를 입력하면 그 단의 9까지의 결과를 나열하는 프로그램을 입력하세요. 예) 3 --> 3 6 9 12 15 18 21 24 27\n",
    "```\n",
    "구구단 프로그램 수업시간에 만들었어서 그냥 가져와서 손봤다.. 3번땜시 진빠져서\n",
    "기존에는 x 변수도 for문을 써서 2단부터 9단까지 전체 출력하도록 되어있었지만 \n",
    "입력값의 결과만 나열해야해서 x의 for문은 없애고 x는 입력받은 수로 하도록 함\n",
    "y 변수는 for문으로 1~9까지 반복되도록 했다\n",
    "```"
   ]
  },
  {
   "cell_type": "code",
   "execution_count": 7,
   "metadata": {},
   "outputs": [
    {
     "name": "stdout",
     "output_type": "stream",
     "text": [
      " 3  6  9 12 15 18 21 24 27 "
     ]
    }
   ],
   "source": [
    "x = int(input('구구단 > '))\n",
    "\n",
    "for y in range(1,10):\n",
    "    print(f'{x*y:>2}', end=' ')"
   ]
  }
 ],
 "metadata": {
  "kernelspec": {
   "display_name": "Python 3",
   "language": "python",
   "name": "python3"
  },
  "language_info": {
   "codemirror_mode": {
    "name": "ipython",
    "version": 3
   },
   "file_extension": ".py",
   "mimetype": "text/x-python",
   "name": "python",
   "nbconvert_exporter": "python",
   "pygments_lexer": "ipython3",
   "version": "3.11.1"
  },
  "orig_nbformat": 4,
  "vscode": {
   "interpreter": {
    "hash": "881462fc2814ba870bf51d80fbc25bf1b415fe6856d58d465ccecd22c8b8fcfd"
   }
  }
 },
 "nbformat": 4,
 "nbformat_minor": 2
}
