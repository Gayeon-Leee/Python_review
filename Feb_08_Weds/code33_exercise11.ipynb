{
 "cells": [
  {
   "attachments": {},
   "cell_type": "markdown",
   "metadata": {},
   "source": [
    "### 121. 문자 입력받아서, 소문자면 대문자로 대문자면 소문자로 출력"
   ]
  },
  {
   "cell_type": "code",
   "execution_count": 1,
   "metadata": {},
   "outputs": [
    {
     "name": "stdout",
     "output_type": "stream",
     "text": [
      "\n"
     ]
    }
   ],
   "source": [
    "s = input('알파벳을 입력하세요 >>')\n",
    "\n",
    "if s.islower() == True:\n",
    "    print(s.upper())\n",
    "\n",
    "else :\n",
    "    print(s.lower())"
   ]
  },
  {
   "attachments": {},
   "cell_type": "markdown",
   "metadata": {},
   "source": [
    "### 122. 사용자로부터 score를 입력받아 학점을 출력하라."
   ]
  },
  {
   "cell_type": "code",
   "execution_count": 2,
   "metadata": {},
   "outputs": [
    {
     "name": "stdout",
     "output_type": "stream",
     "text": [
      "grade is A\n"
     ]
    }
   ],
   "source": [
    "score = int(input('학점을 입력하세요 >> '))\n",
    "\n",
    "if 80 < score <= 100 :\n",
    "    print('grade is A')\n",
    "elif 60 < score <= 80 :\n",
    "    print('grade is B')\n",
    "elif 40 < score <= 60 :\n",
    "    print('grade is C')\n",
    "elif 20 < score <= 40 :\n",
    "    print('grade is D')\n",
    "elif 0 <= score <= 20 :\n",
    "    print('grade is E')\n"
   ]
  },
  {
   "attachments": {},
   "cell_type": "markdown",
   "metadata": {},
   "source": [
    "### 123. 사용자로부터 달러, 엔, 유로, 또는 위안 금액을 입력받은 후 원으로 변환하는 프로그램 작성\n",
    "\n",
    "1. 환율값에 해당하는 dictionary 작성\n",
    "2. 금액 입력할 변수 작성\n",
    "3. split 함수로 입력값을 num, currency 변수로 나누고, 기준은 공백으로 함"
   ]
  },
  {
   "cell_type": "code",
   "execution_count": 4,
   "metadata": {},
   "outputs": [
    {
     "name": "stdout",
     "output_type": "stream",
     "text": [
      "116700.0원\n"
     ]
    }
   ],
   "source": [
    "exchange = {'달러': 1167, '엔': 1.096, '유로': 1268, '위안': 171}\n",
    "user = input('입력 : ')\n",
    "num, currency = user.split( )\n",
    "print(f'{float(num) * exchange[currency]}원')"
   ]
  },
  {
   "attachments": {},
   "cell_type": "markdown",
   "metadata": {},
   "source": [
    "### 124. 사용자로부터 세 개의 숫자를 입력 받은 후 가장 큰 숫자를 출력"
   ]
  },
  {
   "cell_type": "code",
   "execution_count": null,
   "metadata": {},
   "outputs": [
    {
     "name": "stdout",
     "output_type": "stream",
     "text": [
      "17\n"
     ]
    }
   ],
   "source": [
    "number1 = int(input('첫번째 정수를 입력하세요 >> '))\n",
    "number2 = int(input('두번째 정수를 입력하세요 >> '))\n",
    "number3 = int(input('세번째 정수를 입력하세요 >> '))\n",
    "\n",
    "if number1 > number2 and number1 > number3 :\n",
    "    print(number1)\n",
    "elif number2 > number1 and number2 > number3 :\n",
    "    print(number2)\n",
    "else:\n",
    "    print(number3)"
   ]
  },
  {
   "attachments": {},
   "cell_type": "markdown",
   "metadata": {},
   "source": [
    "### 125. 사용자로부터 휴대전화 번호를 입력받고, 통신사를 출력\n",
    "```python\n",
    "company = phone_num.split('-')[0]\n",
    "```\n",
    "010-000-0000 을 - 기준으로 나누는데, split으로 나눈 값은 리스트에 하나씩 들어간다.\n",
    "['010', '000' '0000'] 의 리스트가 되므로 리스트의 0번 인덱스인 010을 company 변수값으로 본다는 것이다."
   ]
  },
  {
   "cell_type": "code",
   "execution_count": null,
   "metadata": {},
   "outputs": [
    {
     "name": "stdout",
     "output_type": "stream",
     "text": [
      "당신은 LGU 사용자 입니다.\n"
     ]
    }
   ],
   "source": [
    "phone_num = input('폰번호 입력 : ')\n",
    "company = phone_num.split('-')[0]\n",
    "\n",
    "if company == '011' : \n",
    "    com = 'SKT'\n",
    "elif company == '016' :\n",
    "    com = 'KT'\n",
    "elif company == '019' :\n",
    "    com = 'LGU'\n",
    "elif company == '010' :\n",
    "    com = '알수없음'\n",
    "\n",
    "print(f'당신은 {com} 사용자 입니다.')"
   ]
  },
  {
   "attachments": {},
   "cell_type": "markdown",
   "metadata": {},
   "source": [
    "### 126. 우편번호를 입력받고 구를 판별\n",
    "\n",
    "- 처음 시도했던 코드\n",
    "```python\n",
    "mail = input('우편번호를 입력하세요 >>')\n",
    "if mail[2] == '0' or '1' or '2' :\n",
    "    print('강북구')\n",
    "elif mail[2] == '3' or '4' or '5' :\n",
    "    print('도봉구')\n",
    "else :\n",
    "    print('노원구')\n",
    "```\n",
    "- 오류해결 : mail = mail[:3] 처럼 입력값인 mail을 리스트로 만들어줘야하고 판별할 범위를 지정해줘야 한다."
   ]
  },
  {
   "cell_type": "code",
   "execution_count": null,
   "metadata": {},
   "outputs": [
    {
     "name": "stdout",
     "output_type": "stream",
     "text": [
      "노원구\n"
     ]
    }
   ],
   "source": [
    "mail = input('우편번호를 입력하세요 >>')\n",
    "mail = mail[:3]\n",
    "if mail in ['010', '011', '012']:\n",
    "    print('강북구')\n",
    "elif mail in ['013', '014', '015']:\n",
    "    print('도봉구')\n",
    "else :\n",
    "    print('노원구')"
   ]
  },
  {
   "attachments": {},
   "cell_type": "markdown",
   "metadata": {},
   "source": [
    "### 127. 주민번호 입력받아 남자, 여자 판별\n",
    "```python\n",
    "ID = input('주민등록번호 : ')\n",
    "ID = ID.split('-')[1] \n",
    "# => ID를 - 기준으로 나누고 1번 인덱스 이니까 940000-20000000가\n",
    "['940000', '20000000'] 으로 나누고 1번 인덱스인 20000000 이 ID에 할당됨 \n",
    "\n",
    "if ID[0] == '1' or ID[0] == '3': # => 20000000 인 ID의 0번 인덱스이니까 2 로 조건식 판단하는 것\n",
    "    print('남자')\n",
    "else :\n",
    "    print('여자')\n",
    "```"
   ]
  },
  {
   "cell_type": "code",
   "execution_count": null,
   "metadata": {},
   "outputs": [
    {
     "name": "stdout",
     "output_type": "stream",
     "text": [
      "여자\n"
     ]
    }
   ],
   "source": [
    "ID = input('주민등록번호 : ')\n",
    "ID = ID.split('-')[1]\n",
    "\n",
    "if ID[0] == '1' or ID[0] == '3':\n",
    "    print('남자')\n",
    "else :\n",
    "    print('여자')"
   ]
  },
  {
   "attachments": {},
   "cell_type": "markdown",
   "metadata": {},
   "source": [
    "### 128. 주민번호 입력받아 출생지 서울인지 아닌지 판단\n",
    "```python\n",
    "if id_num[1:3] in ['00', '01', '02', '03', '04', '05', '06', '07', '08']:\n",
    "# 뒷자리가 1234567 이라고 할때 id_num[1:3]은 23이 됨 이 자리에는 00~12 까지 온다고 가정하므로\n",
    "#   int 함수를 사용해 정수로 사용하면 0~12 까지로 볼 수 있다.\n",
    "if 0 <= int(id_num[1:3]) <= 8  이 성립되는것 \n",
    "```  "
   ]
  },
  {
   "cell_type": "code",
   "execution_count": null,
   "metadata": {},
   "outputs": [
    {
     "name": "stdout",
     "output_type": "stream",
     "text": [
      "서울 입니다.\n"
     ]
    }
   ],
   "source": [
    "id_num = input('주민등록번호 : ')\n",
    "id_num = id_num.split('-')[1]\n",
    "\n",
    "if 0 <= int(id_num[1:3]) <= 8 :\n",
    "    print('서울 입니다.')\n",
    "else : \n",
    "    print('서울이 아닙니다.')"
   ]
  },
  {
   "attachments": {},
   "cell_type": "markdown",
   "metadata": {},
   "source": [
    "### 129 주민등록번호 유효성 체크\n",
    "\n",
    "```python\n",
    "num = input(\"주민등록번호: \")\n",
    "계산1 = int(num[0]) * 2 + int(num[1]) * 3 + int(num[2]) * 4 + int(num[3]) * 5 + int(num[4]) * 6 + \\\n",
    "        int(num[5]) * 7 + int(num[7]) * 8 + int(num[8]) * 9 + int(num[9]) * 2 + int(num[10])* 3 + \\\n",
    "        int(num[11])* 4 + int(num[12]) * 5\n",
    "# 어차피 인덱스로 데이터 찾고 int 함수로 정수화 할거기 때문에 굳이 split 필요없는것!!!!\n",
    "계산2 = 11 - (계산1 % 11)\n",
    "계산3 = str(계산2)\n",
    "\n",
    "if num[-1] == 계산3[-1]: # [-1]이 마지막 인덱스 의미하기 때문에 요런 식으로 표현할 수 있다.\n",
    "    print(\"유효한 주민등록번호입니다.\")\n",
    "else:\n",
    "    print(\"유효하지 않은 주민등록번호입니다.\")\n",
    "```"
   ]
  },
  {
   "cell_type": "code",
   "execution_count": null,
   "metadata": {},
   "outputs": [
    {
     "name": "stdout",
     "output_type": "stream",
     "text": [
      "유효하지 않은 주민등록번호입니다.\n"
     ]
    }
   ],
   "source": [
    "number = input('주민등록번호 : ')\n",
    "id = number.split('-')[0]\n",
    "id2 = number.split('-')[1]\n",
    "\n",
    "mul = int(id[0])*2 + int(id[1])*3 + int(id[2])*4 + int(id[3])*5 + int(id[4])*6 + int(id[5])*7 \n",
    "mul2 = int(id2[0])*8 + int(id2[1])*9 + int(id2[2])*2 + int(id2[3])*3 + int(id2[4])*4 + int(id2[5])*5\n",
    "\n",
    "sum = 11- ((mul + mul2) % 11)\n",
    "\n",
    "if sum == int(id2[6]) :\n",
    "    print('유효한 주민등록번호입니다.')\n",
    "else :\n",
    "    print('유효하지 않은 주민등록번호입니다.')"
   ]
  },
  {
   "attachments": {},
   "cell_type": "markdown",
   "metadata": {},
   "source": [
    "### 130. 딕셔너리 값 호출..."
   ]
  },
  {
   "cell_type": "code",
   "execution_count": null,
   "metadata": {},
   "outputs": [
    {
     "name": "stdout",
     "output_type": "stream",
     "text": [
      "Collecting requests\n",
      "  Downloading requests-2.28.2-py3-none-any.whl (62 kB)\n",
      "     ---------------------------------------- 0.0/62.8 kB ? eta -:--:--\n",
      "     ---------------------------------------- 62.8/62.8 kB 1.7 MB/s eta 0:00:00\n",
      "Collecting charset-normalizer<4,>=2\n",
      "  Downloading charset_normalizer-3.0.1-cp311-cp311-win_amd64.whl (96 kB)\n",
      "     ---------------------------------------- 0.0/96.0 kB ? eta -:--:--\n",
      "     ---------------------------------------- 96.0/96.0 kB ? eta 0:00:00\n",
      "Collecting idna<4,>=2.5\n",
      "  Downloading idna-3.4-py3-none-any.whl (61 kB)\n",
      "     ---------------------------------------- 0.0/61.5 kB ? eta -:--:--\n",
      "     ---------------------------------------- 61.5/61.5 kB 3.2 MB/s eta 0:00:00\n",
      "Collecting urllib3<1.27,>=1.21.1\n",
      "  Downloading urllib3-1.26.14-py2.py3-none-any.whl (140 kB)\n",
      "     ---------------------------------------- 0.0/140.6 kB ? eta -:--:--\n",
      "     -------------------------------------- 140.6/140.6 kB 8.2 MB/s eta 0:00:00\n",
      "Collecting certifi>=2017.4.17\n",
      "  Downloading certifi-2022.12.7-py3-none-any.whl (155 kB)\n",
      "     ---------------------------------------- 0.0/155.3 kB ? eta -:--:--\n",
      "     -------------------------------------- 155.3/155.3 kB 9.1 MB/s eta 0:00:00\n",
      "Installing collected packages: charset-normalizer, urllib3, idna, certifi, requests\n",
      "Successfully installed certifi-2022.12.7 charset-normalizer-3.0.1 idna-3.4 requests-2.28.2 urllib3-1.26.14\n"
     ]
    }
   ],
   "source": [
    "!pip install requests"
   ]
  },
  {
   "cell_type": "code",
   "execution_count": null,
   "metadata": {},
   "outputs": [
    {
     "name": "stdout",
     "output_type": "stream",
     "text": [
      "{'opening_price': '29198000', 'closing_price': '29266000', 'min_price': '28987000', 'max_price': '29587000', 'units_traded': '2626.0352107', 'acc_trade_value': '77098405875.2325', 'prev_closing_price': '29194000', 'units_traded_24H': '2635.78788729', 'acc_trade_value_24H': '77383172949.1533', 'fluctate_24H': '61000', 'fluctate_rate_24H': '0.21', 'date': '1675868022380'}\n",
      "상승장\n"
     ]
    }
   ],
   "source": [
    "import requests\n",
    "btc = requests.get(\"https://api.bithumb.com/public/ticker/\").json()['data']\n",
    "\n",
    "print(btc)\n",
    "\n",
    "변동폭 = float(btc['max_price']) - float(btc['min_price'])\n",
    "시가 = float(btc['opening_price'])\n",
    "최고가 = float(btc['max_price'])\n",
    "\n",
    "if 시가 + 변동폭 > 최고가 :\n",
    "    print('상승장')\n",
    "else :\n",
    "    print('하락장')"
   ]
  }
 ],
 "metadata": {
  "kernelspec": {
   "display_name": "Python 3",
   "language": "python",
   "name": "python3"
  },
  "language_info": {
   "codemirror_mode": {
    "name": "ipython",
    "version": 3
   },
   "file_extension": ".py",
   "mimetype": "text/x-python",
   "name": "python",
   "nbconvert_exporter": "python",
   "pygments_lexer": "ipython3",
   "version": "3.11.1"
  },
  "orig_nbformat": 4,
  "vscode": {
   "interpreter": {
    "hash": "881462fc2814ba870bf51d80fbc25bf1b415fe6856d58d465ccecd22c8b8fcfd"
   }
  }
 },
 "nbformat": 4,
 "nbformat_minor": 2
}
