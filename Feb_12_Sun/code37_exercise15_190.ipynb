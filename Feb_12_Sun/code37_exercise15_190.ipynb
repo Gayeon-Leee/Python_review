{
 "cells": [
  {
   "attachments": {},
   "cell_type": "markdown",
   "metadata": {},
   "source": [
    "### 181. 표에서 하나의 행을 하나의 리스트로, 총 3개의  갖는 apart 리스트를 정의\n",
    "\n",
    "```\n",
    "[[],[]] 이런 식으로 중괄호 안에 중괄호 사용해서 2차원 리스트 생성 가능\n",
    "```"
   ]
  },
  {
   "cell_type": "code",
   "execution_count": 1,
   "metadata": {},
   "outputs": [
    {
     "name": "stdout",
     "output_type": "stream",
     "text": [
      "<class 'list'>\n",
      "[['101호, 102호'], ['201호', '202호'], ['301호', '302호']]\n"
     ]
    }
   ],
   "source": [
    "apart = [['101호, 102호'], ['201호', '202호'], ['301호', '302호']]\n",
    "print(type(apart))\n",
    "print(apart)"
   ]
  },
  {
   "attachments": {},
   "cell_type": "markdown",
   "metadata": {},
   "source": [
    "### 182. 표에서 하나의 열을 하나의 리스트로, 총 2개의 리스트를 갖는 리스트 stock을 정의"
   ]
  },
  {
   "cell_type": "code",
   "execution_count": 3,
   "metadata": {},
   "outputs": [
    {
     "name": "stdout",
     "output_type": "stream",
     "text": [
      "<class 'list'>\n",
      "[['시가', 100, 200, 300], ['종가', 80, 210, 330]]\n"
     ]
    }
   ],
   "source": [
    "stock = [['시가', 100, 200, 300], ['종가', 80, 210, 330]]\n",
    "print(type(stock))\n",
    "print(stock)"
   ]
  },
  {
   "attachments": {},
   "cell_type": "markdown",
   "metadata": {},
   "source": [
    "### 183. 표를 딕셔너리로 표현\n",
    "\n",
    "```\n",
    "딕셔너리의 value로 리스트도 저장 가능\n",
    "```"
   ]
  },
  {
   "cell_type": "code",
   "execution_count": 4,
   "metadata": {},
   "outputs": [
    {
     "name": "stdout",
     "output_type": "stream",
     "text": [
      "[100, 200, 300]\n",
      "[80, 210, 330]\n"
     ]
    }
   ],
   "source": [
    "stock1 = {'시가' : [100, 200, 300], '종가': [80, 210, 330]}\n",
    "print(stock1['시가'])\n",
    "print(stock1['종가'])"
   ]
  },
  {
   "attachments": {},
   "cell_type": "markdown",
   "metadata": {},
   "source": [
    "### 184. 표를 딕셔너리로 표현"
   ]
  },
  {
   "cell_type": "code",
   "execution_count": 5,
   "metadata": {},
   "outputs": [
    {
     "name": "stdout",
     "output_type": "stream",
     "text": [
      "[80, 110, 70, 90]\n",
      "[210, 230, 190, 200]\n"
     ]
    }
   ],
   "source": [
    "stock2 = {'10/10' : [80, 110, 70, 90], '10/11' : [210, 230, 190, 200]}\n",
    "print(stock2['10/10'])\n",
    "print(stock2['10/11'])"
   ]
  },
  {
   "attachments": {},
   "cell_type": "markdown",
   "metadata": {},
   "source": [
    "### 185. 이차원 리스트의 출력\n",
    "\n",
    "```python\n",
    "for i in range(len(apart1)) :\n",
    "    print(apart1[i])\n",
    "```\n",
    "```\n",
    "[101, 102]\n",
    "[201, 202]\n",
    "[301, 302]\n",
    "출력됨\n",
    "```"
   ]
  },
  {
   "cell_type": "code",
   "execution_count": 9,
   "metadata": {},
   "outputs": [
    {
     "name": "stdout",
     "output_type": "stream",
     "text": [
      "101호\n",
      "102호\n",
      "201호\n",
      "202호\n",
      "301호\n",
      "302호\n"
     ]
    }
   ],
   "source": [
    "apart1 = [[101, 102], [201, 202], [301, 302]]\n",
    "\n",
    "for row in apart1 :\n",
    "    for col in row:\n",
    "        print(f'{col}호')\n"
   ]
  },
  {
   "attachments": {},
   "cell_type": "markdown",
   "metadata": {},
   "source": [
    "### 186. 이차원 리스트의 출력"
   ]
  },
  {
   "cell_type": "code",
   "execution_count": 12,
   "metadata": {},
   "outputs": [
    {
     "name": "stdout",
     "output_type": "stream",
     "text": [
      "301호\n",
      "302호\n",
      "201호\n",
      "202호\n",
      "101호\n",
      "102호\n"
     ]
    }
   ],
   "source": [
    "apart1 = [[101, 102], [201, 202], [301, 302]]\n",
    "\n",
    "for row in apart1[::-1] :\n",
    "    for col in row:\n",
    "        print(f'{col}호')"
   ]
  },
  {
   "attachments": {},
   "cell_type": "markdown",
   "metadata": {},
   "source": [
    "### 187. 2차원 리스트의 출력"
   ]
  },
  {
   "cell_type": "code",
   "execution_count": 13,
   "metadata": {},
   "outputs": [
    {
     "name": "stdout",
     "output_type": "stream",
     "text": [
      "302호\n",
      "301호\n",
      "202호\n",
      "201호\n",
      "102호\n",
      "101호\n"
     ]
    }
   ],
   "source": [
    "apart1 = [[101, 102], [201, 202], [301, 302]]\n",
    "\n",
    "for row in apart1[::-1] :\n",
    "    for col in row[::-1]:\n",
    "        print(f'{col}호')"
   ]
  },
  {
   "attachments": {},
   "cell_type": "markdown",
   "metadata": {},
   "source": [
    "### 188. 2차원 리스트의 출력"
   ]
  },
  {
   "cell_type": "code",
   "execution_count": 22,
   "metadata": {},
   "outputs": [
    {
     "name": "stdout",
     "output_type": "stream",
     "text": [
      "101호\n",
      "-----\n",
      "102호\n",
      "-----\n",
      "201호\n",
      "-----\n",
      "202호\n",
      "-----\n",
      "301호\n",
      "-----\n",
      "302호\n",
      "-----\n"
     ]
    }
   ],
   "source": [
    "apart1 = [[101, 102], [201, 202], [301, 302]]\n",
    "\n",
    "for row in apart1 :\n",
    "    for col in row:\n",
    "        print(f'{col}호')\n",
    "        print('-'*5)"
   ]
  },
  {
   "attachments": {},
   "cell_type": "markdown",
   "metadata": {},
   "source": [
    "### 189. 이중 리스트의 출력"
   ]
  },
  {
   "cell_type": "code",
   "execution_count": 23,
   "metadata": {},
   "outputs": [
    {
     "name": "stdout",
     "output_type": "stream",
     "text": [
      "101호\n",
      "102호\n",
      "-----\n",
      "201호\n",
      "202호\n",
      "-----\n",
      "301호\n",
      "302호\n",
      "-----\n"
     ]
    }
   ],
   "source": [
    "apart1 = [[101, 102], [201, 202], [301, 302]]\n",
    "\n",
    "for row in apart1 :\n",
    "    for col in row:\n",
    "        print(f'{col}호')\n",
    "    print('-'*5)"
   ]
  },
  {
   "attachments": {},
   "cell_type": "markdown",
   "metadata": {},
   "source": [
    "### 190. 이중 리스트의 출력"
   ]
  },
  {
   "cell_type": "code",
   "execution_count": 24,
   "metadata": {},
   "outputs": [
    {
     "name": "stdout",
     "output_type": "stream",
     "text": [
      "101호\n",
      "102호\n",
      "201호\n",
      "202호\n",
      "301호\n",
      "302호\n",
      "-----\n"
     ]
    }
   ],
   "source": [
    "apart1 = [[101, 102], [201, 202], [301, 302]]\n",
    "\n",
    "for row in apart1 :\n",
    "    for col in row:\n",
    "        print(f'{col}호')\n",
    "print('-'*5)"
   ]
  }
 ],
 "metadata": {
  "kernelspec": {
   "display_name": "Python 3",
   "language": "python",
   "name": "python3"
  },
  "language_info": {
   "codemirror_mode": {
    "name": "ipython",
    "version": 3
   },
   "file_extension": ".py",
   "mimetype": "text/x-python",
   "name": "python",
   "nbconvert_exporter": "python",
   "pygments_lexer": "ipython3",
   "version": "3.11.1"
  },
  "orig_nbformat": 4,
  "vscode": {
   "interpreter": {
    "hash": "881462fc2814ba870bf51d80fbc25bf1b415fe6856d58d465ccecd22c8b8fcfd"
   }
  }
 },
 "nbformat": 4,
 "nbformat_minor": 2
}
