{
 "cells": [
  {
   "attachments": {},
   "cell_type": "markdown",
   "metadata": {},
   "source": [
    "### 132. for문 실행\n",
    "\n",
    "for문 => 자료구조에 저장된 데이터 개수만큼 반복\n",
    "아래 과일 리스트에는 3개의 데이터가 저장되어 있으므로\n",
    "'####' 출력이 3번 반복됨"
   ]
  },
  {
   "cell_type": "code",
   "execution_count": 1,
   "metadata": {},
   "outputs": [
    {
     "name": "stdout",
     "output_type": "stream",
     "text": [
      "####\n",
      "####\n",
      "####\n"
     ]
    }
   ],
   "source": [
    "과일 = ['사과','귤','수박']\n",
    "for 변수 in 과일:\n",
    "    print('####')"
   ]
  },
  {
   "attachments": {},
   "cell_type": "markdown",
   "metadata": {},
   "source": [
    "### 136. for문 작성"
   ]
  },
  {
   "cell_type": "code",
   "execution_count": 2,
   "metadata": {},
   "outputs": [
    {
     "name": "stdout",
     "output_type": "stream",
     "text": [
      "10\n",
      "20\n",
      "30\n"
     ]
    }
   ],
   "source": [
    "nums = [10, 20, 30]\n",
    "\n",
    "for n in nums :\n",
    "    print(n)"
   ]
  },
  {
   "attachments": {},
   "cell_type": "markdown",
   "metadata": {},
   "source": [
    "### 138. for문 작성"
   ]
  },
  {
   "cell_type": "code",
   "execution_count": 3,
   "metadata": {},
   "outputs": [
    {
     "name": "stdout",
     "output_type": "stream",
     "text": [
      "10\n",
      "------\n",
      "20\n",
      "------\n",
      "30\n",
      "------\n"
     ]
    }
   ],
   "source": [
    "for i in [10, 20, 30]:\n",
    "    print(i)\n",
    "    print('------')"
   ]
  },
  {
   "attachments": {},
   "cell_type": "markdown",
   "metadata": {},
   "source": [
    "### 139. for문 작성"
   ]
  },
  {
   "cell_type": "code",
   "execution_count": 4,
   "metadata": {},
   "outputs": [
    {
     "name": "stdout",
     "output_type": "stream",
     "text": [
      "++++\n",
      "10\n",
      "20\n",
      "30\n"
     ]
    }
   ],
   "source": [
    "for s in ['++++', '10', 20, 30] :\n",
    "    print(s)"
   ]
  },
  {
   "attachments": {},
   "cell_type": "markdown",
   "metadata": {},
   "source": [
    "### 140. for문 작성"
   ]
  },
  {
   "cell_type": "code",
   "execution_count": 6,
   "metadata": {},
   "outputs": [
    {
     "name": "stdout",
     "output_type": "stream",
     "text": [
      "----\n",
      "----\n",
      "----\n",
      "----\n"
     ]
    }
   ],
   "source": [
    "line = [0,1,2,3]\n",
    "\n",
    "for l in line :\n",
    "    print('----')"
   ]
  },
  {
   "attachments": {},
   "cell_type": "markdown",
   "metadata": {},
   "source": [
    "### 141. for문 작성\n",
    "\n",
    "```python\n",
    "for 변수 in 리스트 :\n",
    "    print(리스트)\n",
    "```\n",
    "하면 출력값은 아래처럼 됨!\n",
    "[100,200,300]\n",
    "[100,200,300]\n",
    "[100,200,300]\n",
    "\n",
    "```python\n",
    "for 변수 in 리스트 :\n",
    "    print(변수)\n",
    "```\n",
    "해야 리스트에 들어있는 데이터가 하나씩 출력되는것\n",
    "100\n",
    "200\n",
    "300"
   ]
  },
  {
   "cell_type": "code",
   "execution_count": 14,
   "metadata": {},
   "outputs": [
    {
     "name": "stdout",
     "output_type": "stream",
     "text": [
      "110\n",
      "210\n",
      "310\n"
     ]
    }
   ],
   "source": [
    "리스트 = [100, 200, 300]\n",
    "\n",
    "for i in 리스트 :\n",
    "    print(i + 10)"
   ]
  },
  {
   "attachments": {},
   "cell_type": "markdown",
   "metadata": {},
   "source": [
    "### 142. for문 작성"
   ]
  },
  {
   "cell_type": "code",
   "execution_count": 15,
   "metadata": {},
   "outputs": [
    {
     "name": "stdout",
     "output_type": "stream",
     "text": [
      "오늘의 메뉴 : 김밥\n",
      "오늘의 메뉴 : 라면\n",
      "오늘의 메뉴 : 튀김\n"
     ]
    }
   ],
   "source": [
    "menu = ['김밥', '라면', '튀김']\n",
    "\n",
    "for m in menu :\n",
    "    print(f'오늘의 메뉴 : {m}')"
   ]
  },
  {
   "attachments": {},
   "cell_type": "markdown",
   "metadata": {},
   "source": [
    "### 143. for문 이용하여 문자열의 길이 출력"
   ]
  },
  {
   "cell_type": "code",
   "execution_count": 16,
   "metadata": {},
   "outputs": [
    {
     "name": "stdout",
     "output_type": "stream",
     "text": [
      "6\n",
      "4\n",
      "4\n"
     ]
    }
   ],
   "source": [
    "stock = ['SK하이닉스',  '삼성전자', 'LG전자']\n",
    "\n",
    "for st in stock :\n",
    "    print(len(st))"
   ]
  },
  {
   "attachments": {},
   "cell_type": "markdown",
   "metadata": {},
   "source": [
    "### 144. for문 이용하여 데이터와 글자수 출력"
   ]
  },
  {
   "cell_type": "code",
   "execution_count": 17,
   "metadata": {},
   "outputs": [
    {
     "name": "stdout",
     "output_type": "stream",
     "text": [
      "dog 3\n",
      "cat 3\n",
      "parrot 6\n"
     ]
    }
   ],
   "source": [
    "animals = ['dog', 'cat', 'parrot']\n",
    "\n",
    "for a in animals :\n",
    "    print(a, len(a))"
   ]
  },
  {
   "attachments": {},
   "cell_type": "markdown",
   "metadata": {},
   "source": [
    "### 145. for문 이용하여 리스트의 데이터 출력"
   ]
  },
  {
   "cell_type": "code",
   "execution_count": 18,
   "metadata": {},
   "outputs": [
    {
     "name": "stdout",
     "output_type": "stream",
     "text": [
      "d\n",
      "c\n",
      "p\n"
     ]
    }
   ],
   "source": [
    "animals = ['dog', 'cat', 'parrot']\n",
    "\n",
    "for a in animals :\n",
    "    print(a[0])"
   ]
  },
  {
   "attachments": {},
   "cell_type": "markdown",
   "metadata": {},
   "source": [
    "### 146. for문 작성하기"
   ]
  },
  {
   "cell_type": "code",
   "execution_count": 20,
   "metadata": {},
   "outputs": [
    {
     "name": "stdout",
     "output_type": "stream",
     "text": [
      "3 X 1\n",
      "3 X 2\n",
      "3 X 3\n"
     ]
    }
   ],
   "source": [
    "numbers = [1, 2, 3]\n",
    "\n",
    "for num in numbers:\n",
    "    print(f'3 X {num}')"
   ]
  },
  {
   "attachments": {},
   "cell_type": "markdown",
   "metadata": {},
   "source": [
    "### 147. for문 이용해서 곱하기"
   ]
  },
  {
   "cell_type": "code",
   "execution_count": 19,
   "metadata": {},
   "outputs": [
    {
     "name": "stdout",
     "output_type": "stream",
     "text": [
      "3 X 1 = 3\n",
      "3 X 2 = 6\n",
      "3 X 3 = 9\n"
     ]
    }
   ],
   "source": [
    "numbers = [1, 2, 3]\n",
    "\n",
    "for num in numbers:\n",
    "    print(f'3 X {num} = {3 * num}')"
   ]
  },
  {
   "attachments": {},
   "cell_type": "markdown",
   "metadata": {},
   "source": [
    "### 148. for문 작성하기"
   ]
  },
  {
   "cell_type": "code",
   "execution_count": 26,
   "metadata": {},
   "outputs": [
    {
     "name": "stdout",
     "output_type": "stream",
     "text": [
      "나\n",
      "다\n",
      "라\n"
     ]
    }
   ],
   "source": [
    "리스트 = ['가', '나', '다', '라']\n",
    "\n",
    "for k in 리스트[1:4]:\n",
    "    print(k)"
   ]
  },
  {
   "attachments": {},
   "cell_type": "markdown",
   "metadata": {},
   "source": [
    "### 149. for문 작성하기\n",
    "\n",
    "헷갈릴때는 for문 사용 안할때 어떻게 출력할지 아래 주석단거처럼 먼저 작성해보고 하기!! \n",
    "생각을 정리하는데 좋은 것 같다."
   ]
  },
  {
   "cell_type": "code",
   "execution_count": 28,
   "metadata": {},
   "outputs": [
    {
     "name": "stdout",
     "output_type": "stream",
     "text": [
      "가\n",
      "다\n"
     ]
    }
   ],
   "source": [
    "마바사 = ['가', '나', '다', '라']\n",
    "for b in 마바사[::2]:\n",
    "    print(b)\n",
    "\n",
    "# print(마바사[::2])"
   ]
  },
  {
   "attachments": {},
   "cell_type": "markdown",
   "metadata": {},
   "source": [
    "### 150. for문 작성하기"
   ]
  },
  {
   "cell_type": "code",
   "execution_count": 29,
   "metadata": {},
   "outputs": [
    {
     "name": "stdout",
     "output_type": "stream",
     "text": [
      "라\n",
      "다\n",
      "나\n",
      "가\n"
     ]
    }
   ],
   "source": [
    "아자차 = ['가', '나', '다', '라']\n",
    "for j in 아자차[::-1]:\n",
    "    print(j)"
   ]
  },
  {
   "attachments": {},
   "cell_type": "markdown",
   "metadata": {},
   "source": [
    "### 151. for문 이용한 음수 출력\n",
    "\n",
    "음수 여부 판단은 < 0"
   ]
  },
  {
   "cell_type": "code",
   "execution_count": 30,
   "metadata": {},
   "outputs": [
    {
     "name": "stdout",
     "output_type": "stream",
     "text": [
      "-20\n",
      "-3\n"
     ]
    }
   ],
   "source": [
    "정수 = [3, -20, -3, 44]\n",
    "\n",
    "for it in 정수:\n",
    "    if it < 0 :\n",
    "        print(it)"
   ]
  },
  {
   "attachments": {},
   "cell_type": "markdown",
   "metadata": {},
   "source": [
    "### 152. for문 이용해서 3의 배수 출력"
   ]
  },
  {
   "cell_type": "code",
   "execution_count": 31,
   "metadata": {},
   "outputs": [
    {
     "name": "stdout",
     "output_type": "stream",
     "text": [
      "3\n"
     ]
    }
   ],
   "source": [
    "three = [3, 100, 23, 44]\n",
    "\n",
    "for t in three :\n",
    "    if t % 3 == 0 :\n",
    "        print(t)"
   ]
  },
  {
   "attachments": {},
   "cell_type": "markdown",
   "metadata": {},
   "source": [
    "### 153. for문 이용해서 20보다 작은 3의 배수 출력"
   ]
  },
  {
   "cell_type": "code",
   "execution_count": 33,
   "metadata": {},
   "outputs": [
    {
     "name": "stdout",
     "output_type": "stream",
     "text": [
      "12\n",
      "18\n"
     ]
    }
   ],
   "source": [
    "three = [13, 21, 12, 14, 30, 18]\n",
    "\n",
    "for t in three :\n",
    "    if t % 3 == 0 and t < 20 :\n",
    "        print(t)"
   ]
  },
  {
   "attachments": {},
   "cell_type": "markdown",
   "metadata": {},
   "source": [
    "### 154. for문 이용해서 세글자 이상의 문자를 출력"
   ]
  },
  {
   "cell_type": "code",
   "execution_count": 34,
   "metadata": {},
   "outputs": [
    {
     "name": "stdout",
     "output_type": "stream",
     "text": [
      "study\n",
      "python\n",
      "language\n"
     ]
    }
   ],
   "source": [
    "study = ['I', 'study', 'python', 'language', '!']\n",
    "\n",
    "for y in study:\n",
    "    if len(y) >= 3 :\n",
    "        print(y)"
   ]
  },
  {
   "attachments": {},
   "cell_type": "markdown",
   "metadata": {},
   "source": [
    "### 155/156. for문 이용해서 대,소문자 출력\n",
    "\n",
    "변수.isupper() => 대문자 여부 판별"
   ]
  },
  {
   "cell_type": "code",
   "execution_count": 36,
   "metadata": {},
   "outputs": [
    {
     "name": "stdout",
     "output_type": "stream",
     "text": [
      "b\n",
      "c\n"
     ]
    }
   ],
   "source": [
    "alp = ['A', 'b', 'c', 'D']\n",
    "\n",
    "for a in alp :\n",
    "    if a.isupper() == False :  \n",
    "        print(a)"
   ]
  },
  {
   "attachments": {},
   "cell_type": "markdown",
   "metadata": {},
   "source": [
    "### 157. for문 출력 / 대문자로 변경 출력\n",
    "\n",
    "첫글자만 대문자로 변경하려면\n",
    "p[0].upper() + p[1:] 하면 됨"
   ]
  },
  {
   "cell_type": "code",
   "execution_count": 39,
   "metadata": {},
   "outputs": [
    {
     "name": "stdout",
     "output_type": "stream",
     "text": [
      "Dog\n",
      "Cat\n",
      "Parrot\n"
     ]
    }
   ],
   "source": [
    "pet = ['dog', 'cat', 'parrot']\n",
    "\n",
    "for p in pet:\n",
    "    print(p[0].upper() + p[1:])"
   ]
  },
  {
   "attachments": {},
   "cell_type": "markdown",
   "metadata": {},
   "source": [
    "### 158. for문 출력 // 문자열 자르기"
   ]
  },
  {
   "cell_type": "code",
   "execution_count": 41,
   "metadata": {},
   "outputs": [
    {
     "name": "stdout",
     "output_type": "stream",
     "text": [
      "hello\n",
      "ex01\n",
      "intro\n"
     ]
    }
   ],
   "source": [
    "sleepy = ['hello.py', 'ex01.py', 'intro.hwp']\n",
    "\n",
    "for s in sleepy:\n",
    "    print(s.split('.')[0])"
   ]
  },
  {
   "attachments": {},
   "cell_type": "markdown",
   "metadata": {},
   "source": [
    "### 159~160. for문 출력 // 확장자 출력"
   ]
  },
  {
   "cell_type": "code",
   "execution_count": 42,
   "metadata": {},
   "outputs": [
    {
     "name": "stdout",
     "output_type": "stream",
     "text": [
      "inta.h\n",
      "intra.c\n",
      "define.h\n"
     ]
    }
   ],
   "source": [
    "tired = ['inta.h', 'intra.c', 'define.h', 'run.py']\n",
    "\n",
    "for t in tired:\n",
    "    if t.split('.')[1] == 'h' or t.split('.')[1] == 'c':\n",
    "        print(t)"
   ]
  }
 ],
 "metadata": {
  "kernelspec": {
   "display_name": "Python 3",
   "language": "python",
   "name": "python3"
  },
  "language_info": {
   "codemirror_mode": {
    "name": "ipython",
    "version": 3
   },
   "file_extension": ".py",
   "mimetype": "text/x-python",
   "name": "python",
   "nbconvert_exporter": "python",
   "pygments_lexer": "ipython3",
   "version": "3.11.1"
  },
  "orig_nbformat": 4,
  "vscode": {
   "interpreter": {
    "hash": "881462fc2814ba870bf51d80fbc25bf1b415fe6856d58d465ccecd22c8b8fcfd"
   }
  }
 },
 "nbformat": 4,
 "nbformat_minor": 2
}
